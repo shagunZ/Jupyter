{
 "cells": [
  {
   "cell_type": "code",
   "execution_count": 4,
   "id": "b2c01286",
   "metadata": {},
   "outputs": [],
   "source": [
    "import numpy as np "
   ]
  },
  {
   "cell_type": "code",
   "execution_count": 34,
   "id": "829e5c58",
   "metadata": {},
   "outputs": [
    {
     "name": "stdout",
     "output_type": "stream",
     "text": [
      "[6, 8]\n",
      "[10, 12]\n"
     ]
    }
   ],
   "source": [
    "a = np.array([[1,2],[3,4,]])\n",
    "b = np.array([[5,6],[7,8]])\n",
    "# sumc = a+b\n",
    "# print(sumc)\n",
    "sum_matrix = []\n",
    "for i in range(len(a)):\n",
    "    row = []\n",
    "    for j in range(len(a[0])):\n",
    "        row.append(a[i][j] + b[i][j])\n",
    "    sum_matrix.append(row)\n",
    "        \n",
    "for row in sum_matrix:\n",
    "    print(row)"
   ]
  },
  {
   "cell_type": "code",
   "execution_count": 35,
   "id": "b89b640c",
   "metadata": {},
   "outputs": [
    {
     "name": "stdout",
     "output_type": "stream",
     "text": [
      "[19, 22]\n",
      "[43, 50]\n"
     ]
    }
   ],
   "source": [
    "# print(np.matmul(a,b))\n",
    "mul_matrix = []\n",
    "for i in range(len(a)):\n",
    "    row = []\n",
    "    for j in range(len(b[0])):\n",
    "        ele = 0\n",
    "        for k in range(len(b)):\n",
    "            ele +=a[i][k] * b[k][j]\n",
    "        row.append(ele)\n",
    "    mul_matrix.append(row)\n",
    "\n",
    "for row in mul_matrix:\n",
    "    print(row)    "
   ]
  },
  {
   "cell_type": "code",
   "execution_count": 47,
   "id": "5bf90f2f",
   "metadata": {},
   "outputs": [
    {
     "name": "stdout",
     "output_type": "stream",
     "text": [
      "[100 200]\n",
      "[300 400]\n"
     ]
    }
   ],
   "source": [
    "# scalarmul = 10*a\n",
    "# print(scalarmul)\n",
    "for i in range(len(a)):\n",
    "    for j in range(len(a[0])):\n",
    "        a[i][j] = 10*a[i][j]\n",
    "\n",
    "for row in a:\n",
    "    print(row)"
   ]
  },
  {
   "cell_type": "code",
   "execution_count": 58,
   "id": "351a73b1",
   "metadata": {},
   "outputs": [
    {
     "name": "stdout",
     "output_type": "stream",
     "text": [
      "[5, 11]\n",
      "Dot product:\n",
      "[17]\n",
      "[39]\n"
     ]
    }
   ],
   "source": [
    "v = np.array([1, 2])\n",
    "np.dot(a,v)\n",
    "\n",
    "res = []\n",
    "for row in a:\n",
    "    row_sum = 0\n",
    "    for i in range(len(v)):\n",
    "        row_sum += row[i] * v[i]\n",
    "    res.append(row_sum)\n",
    "print(res)\n",
    "\n",
    "############################\n",
    "\n",
    "matrix = [[1, 2],\n",
    "          [3, 4]]\n",
    "vector = [[5],\n",
    "          [6]]\n",
    "dot_product = [[0],\n",
    "               [0]]\n",
    "\n",
    "for i in range(len(matrix)):\n",
    "    for j in range(len(vector[0])):\n",
    "        for k in range(len(vector)):\n",
    "            dot_product[i][j] += matrix[i][k] * vector[k][j]\n",
    "\n",
    "print(\"Dot product:\")\n",
    "for row in dot_product:\n",
    "    print(row)"
   ]
  },
  {
   "cell_type": "code",
   "execution_count": 64,
   "id": "dcdbb951",
   "metadata": {},
   "outputs": [
    {
     "name": "stdout",
     "output_type": "stream",
     "text": [
      "[1 2 3]\n",
      "[4 5 6]\n",
      "[7 8 9]\n"
     ]
    }
   ],
   "source": [
    "tmatrix = np.array([[1, 2, 3],\n",
    "                       [4, 5, 6],\n",
    "                       [7, 8, 9]])\n",
    "# np.transpose(tmatrix)\n",
    "t=[]\n",
    "for i in range(len(tmatrix)):\n",
    "    tr=[]\n",
    "    for j in range(len(tmatrix[0])):\n",
    "        tr.append(tmatrix[i][j])\n",
    "    t.append(tr)\n",
    "for i in tmatrix:\n",
    "    print(i)"
   ]
  }
 ],
 "metadata": {
  "kernelspec": {
   "display_name": "Python 3 (ipykernel)",
   "language": "python",
   "name": "python3"
  },
  "language_info": {
   "codemirror_mode": {
    "name": "ipython",
    "version": 3
   },
   "file_extension": ".py",
   "mimetype": "text/x-python",
   "name": "python",
   "nbconvert_exporter": "python",
   "pygments_lexer": "ipython3",
   "version": "3.11.5"
  }
 },
 "nbformat": 4,
 "nbformat_minor": 5
}
